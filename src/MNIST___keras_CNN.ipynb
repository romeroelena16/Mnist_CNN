{
  "nbformat": 4,
  "nbformat_minor": 0,
  "metadata": {
    "colab": {
      "name": "MNIST | keras CNN.ipynb",
      "provenance": [],
      "collapsed_sections": []
    },
    "kernelspec": {
      "name": "python3",
      "display_name": "Python 3"
    },
    "language_info": {
      "name": "python"
    }
  },
  "cells": [
    {
      "cell_type": "code",
      "source": [
        "import numpy as np\n",
        "import matplotlib.pyplot as plt\n",
        "from random import sample\n",
        "\n",
        "\n",
        "# Librería del dataset\n",
        "from sklearn import datasets\n",
        "from sklearn.metrics import accuracy_score\n",
        "from sklearn.model_selection import train_test_split\n",
        "\n",
        "# Librería\n",
        "import keras \n",
        "import tensorflow_datasets as tfd\n",
        "from tensorflow.python.keras.models import Sequential\n",
        "from tensorflow.python.keras.layers import Reshape, MaxPooling2D\n",
        "from tensorflow.python.keras.layers import Conv2D, Dense, Flatten, Dropout"
      ],
      "metadata": {
        "id": "N_vgEIxkgWkz"
      },
      "execution_count": null,
      "outputs": []
    },
    {
      "cell_type": "code",
      "source": [
        "! pip install keras-rectified-adam"
      ],
      "metadata": {
        "colab": {
          "base_uri": "https://localhost:8080/"
        },
        "id": "BLW0K-2qlWb6",
        "outputId": "08e00476-7f0c-4511-91f8-489eb76317b8"
      },
      "execution_count": null,
      "outputs": [
        {
          "output_type": "stream",
          "name": "stdout",
          "text": [
            "Requirement already satisfied: keras-rectified-adam in /usr/local/lib/python3.7/dist-packages (0.20.0)\n",
            "Requirement already satisfied: numpy in /usr/local/lib/python3.7/dist-packages (from keras-rectified-adam) (1.21.6)\n",
            "Requirement already satisfied: Keras in /usr/local/lib/python3.7/dist-packages (from keras-rectified-adam) (2.8.0)\n"
          ]
        }
      ]
    },
    {
      "cell_type": "code",
      "source": [
        "from tensorflow.keras.optimizers import Adam"
      ],
      "metadata": {
        "id": "yi5sgs1q1iye"
      },
      "execution_count": null,
      "outputs": []
    },
    {
      "cell_type": "code",
      "source": [
        "# Cargamos la data\n",
        "digits = datasets.load_digits()"
      ],
      "metadata": {
        "id": "WaXyfOt0NQhI"
      },
      "execution_count": null,
      "outputs": []
    },
    {
      "cell_type": "code",
      "source": [
        "dir(digits)"
      ],
      "metadata": {
        "colab": {
          "base_uri": "https://localhost:8080/"
        },
        "id": "DnmwuJEZO4NB",
        "outputId": "6e9f3386-3401-4ad1-9a79-69884dc818a1"
      },
      "execution_count": null,
      "outputs": [
        {
          "output_type": "execute_result",
          "data": {
            "text/plain": [
              "['DESCR', 'data', 'feature_names', 'frame', 'images', 'target', 'target_names']"
            ]
          },
          "metadata": {},
          "execution_count": 26
        }
      ]
    },
    {
      "cell_type": "code",
      "source": [
        "# Mostrar todo el conjunto de Dataset del 0 al 9\n",
        "\n",
        "_, axes = plt.subplots(nrows=1, ncols=10, figsize=(20, 3))\n",
        "for ax, image, label in zip(axes, digits.images, digits.target):\n",
        "    ax.set_axis_off()\n",
        "    ax.imshow(image, cmap=plt.cm.gray_r, interpolation=\"nearest\")\n",
        "    ax.set_title(\"Training: %i\" % label)"
      ],
      "metadata": {
        "colab": {
          "base_uri": "https://localhost:8080/",
          "height": 142
        },
        "id": "Uwv2K2RNOI8o",
        "outputId": "a5e8d9d2-19e2-495b-cf70-3c7ffe7ddeef"
      },
      "execution_count": null,
      "outputs": [
        {
          "output_type": "display_data",
          "data": {
            "text/plain": [
              "<Figure size 1440x216 with 10 Axes>"
            ],
            "image/png": "[encoded data removed]"
          },
          "metadata": {}
        }
      ]
    },
    {
      "cell_type": "code",
      "source": [
        "# guardamos los datos matriciales \n",
        "dataMnist = digits.data"
      ],
      "metadata": {
        "id": "Y0FbAviSwkG2"
      },
      "execution_count": null,
      "outputs": []
    },
    {
      "cell_type": "code",
      "source": [
        "# Veamos la dimensión de nuestro dataset\n",
        "dataMnist.shape"
      ],
      "metadata": {
        "colab": {
          "base_uri": "https://localhost:8080/"
        },
        "id": "fYSu4mRpxFp2",
        "outputId": "1e8b9877-648e-432d-ae18-ed188e04ae5c"
      },
      "execution_count": null,
      "outputs": [
        {
          "output_type": "execute_result",
          "data": {
            "text/plain": [
              "(1797, 64)"
            ]
          },
          "metadata": {},
          "execution_count": 29
        }
      ]
    },
    {
      "cell_type": "code",
      "source": [
        "# Separación en entrenamiento y test=30%\n",
        "X_train, X_test, y_train, y_test =  train_test_split(\n",
        "    dataMnist, digits.target, test_size=0.3\n",
        ")\n",
        "# Dimensión de train y test\n",
        "print('train X :', X_train.shape, ', train y :', y_train.shape)\n",
        "print('test  X :', X_test.shape, ', test  y :', y_test.shape)"
      ],
      "metadata": {
        "colab": {
          "base_uri": "https://localhost:8080/"
        },
        "id": "OJkozdWh-so9",
        "outputId": "38c7f8c1-6437-409e-cf7b-c93bfd671b91"
      },
      "execution_count": null,
      "outputs": [
        {
          "output_type": "stream",
          "name": "stdout",
          "text": [
            "train X : (1257, 64) , train y : (1257,)\n",
            "test  X : (540, 64) , test  y : (540,)\n"
          ]
        }
      ]
    },
    {
      "cell_type": "code",
      "source": [
        "# reshape\n",
        "img_rows, img_cols = 8, 8\n",
        "\n",
        "input_shape = (img_rows, img_cols, 1)\n",
        "input_shape\n",
        "\n",
        "X_train = X_train.reshape(X_train.shape[0], img_rows, img_cols, 1)\n",
        "X_test = X_test.reshape(X_test.shape[0], img_rows, img_cols, 1)"
      ],
      "metadata": {
        "id": "Mze88v7ox3Fj"
      },
      "execution_count": null,
      "outputs": []
    },
    {
      "cell_type": "code",
      "source": [
        "# Normalizamos los datos para evitar problemas de inestabilidad numérica\n",
        "# Aseguramos que los datos estén bien representados con floats de 32-bits\n",
        "# los pixeles tiene valores de 0 a 255, pero para normalizar debe estra entre 0 a 1 \n",
        "X_train = X_train.astype('float32')/255.0 # 255 es el máx valor de pixeles\n",
        "X_test  = X_test.astype('float32')/255.0  # de color"
      ],
      "metadata": {
        "id": "fKtlwGz1nfgt"
      },
      "execution_count": null,
      "outputs": []
    },
    {
      "cell_type": "code",
      "source": [
        "# Convertir las etiquetas en vectores one-hot encoded\n",
        "from sklearn.preprocessing import LabelBinarizer\n",
        "\n",
        "label_binarizer = LabelBinarizer()\n",
        "y_train = label_binarizer.fit_transform(y_train)\n",
        "y_test  = label_binarizer.fit_transform(y_test)"
      ],
      "metadata": {
        "id": "3o6Z4CGXnsHH"
      },
      "execution_count": null,
      "outputs": []
    },
    {
      "cell_type": "code",
      "source": [
        "\n",
        "#atch_size = 256\n",
        "num_classes = 10\n",
        "#epochs = 50\n",
        "\n",
        "input_shape = input_shape\n",
        "\n",
        "modelo_cnn = Sequential()\n",
        "#conv2D convierte a un vector toda la información de los pixeles\n",
        "#flatten sirve para conectar una capa de convolución bidimensional a una capa densa unimensional \n",
        "#MaxPooling2D aplicar poling\n",
        "#32 filtros, kernel 3*3\n",
        "modelo_cnn.add(Conv2D(32, kernel_size=(3, 3),\n",
        "                 activation='relu',\n",
        "                 input_shape=input_shape))\n",
        "#de una 2*2 tomara el valor del pixel máximo poling\n",
        "modelo_cnn.add(MaxPooling2D(pool_size=(2, 2)))\n",
        "modelo_cnn.add(Dropout(0.25))\n",
        "modelo_cnn.add(Flatten())\n",
        "modelo_cnn.add(Dense(256, activation='relu'))\n",
        "modelo_cnn.add(Dropout(0.5))\n",
        "modelo_cnn.add(Dense(num_classes, activation='softmax'))\n",
        "modelo_cnn.summary()"
      ],
      "metadata": {
        "id": "xSW77pVwpN0r",
        "colab": {
          "base_uri": "https://localhost:8080/"
        },
        "outputId": "b6581bef-a07b-4e01-a347-5638dca96cad"
      },
      "execution_count": null,
      "outputs": [
        {
          "output_type": "stream",
          "name": "stdout",
          "text": [
            "Model: \"sequential_1\"\n",
            "_________________________________________________________________\n",
            "Layer (type)                 Output Shape              Param #   \n",
            "=================================================================\n",
            "conv2d_1 (Conv2D)            (None, 6, 6, 32)          320       \n",
            "_________________________________________________________________\n",
            "max_pooling2d_1 (MaxPooling2 (None, 3, 3, 32)          0         \n",
            "_________________________________________________________________\n",
            "dropout_2 (Dropout)          (None, 3, 3, 32)          0         \n",
            "_________________________________________________________________\n",
            "flatten_1 (Flatten)          (None, 288)               0         \n",
            "_________________________________________________________________\n",
            "dense_2 (Dense)              (None, 256)               73984     \n",
            "_________________________________________________________________\n",
            "dropout_3 (Dropout)          (None, 256)               0         \n",
            "_________________________________________________________________\n",
            "dense_3 (Dense)              (None, 10)                2570      \n",
            "=================================================================\n",
            "Total params: 76,874\n",
            "Trainable params: 76,874\n",
            "Non-trainable params: 0\n",
            "_________________________________________________________________\n"
          ]
        }
      ]
    },
    {
      "cell_type": "code",
      "source": [
        "# Usamos Adam como optimizador \n",
        "print('Entrenando red...')\n",
        "adam = Adam()\n",
        "modelo_cnn.compile(loss ='categorical_crossentropy', \n",
        "              optimizer = 'adam', metrics=['accuracy'])"
      ],
      "metadata": {
        "colab": {
          "base_uri": "https://localhost:8080/"
        },
        "id": "xhFrMtWrpnzK",
        "outputId": "c3b662f8-77ac-431f-8561-3fbc6a7f61a0"
      },
      "execution_count": null,
      "outputs": [
        {
          "output_type": "stream",
          "name": "stdout",
          "text": [
            "Entrenando red...\n"
          ]
        }
      ]
    },
    {
      "cell_type": "code",
      "source": [
        "print('train X :', X_train.shape, ', train y :', y_train.shape)\n",
        "print('test  X :', X_test.shape, ', test  y :', y_test.shape)"
      ],
      "metadata": {
        "colab": {
          "base_uri": "https://localhost:8080/"
        },
        "id": "WpbDcis6WOVk",
        "outputId": "65ca1818-3b63-4670-934f-5a43e05e167c"
      },
      "execution_count": null,
      "outputs": [
        {
          "output_type": "stream",
          "name": "stdout",
          "text": [
            "train X : (1257, 8, 8, 1) , train y : (1257, 10)\n",
            "test  X : (540, 8, 8, 1) , test  y : (540, 10)\n"
          ]
        }
      ]
    },
    {
      "cell_type": "code",
      "source": [
        "prede_test = modelo_cnn.fit(X_train, y_train, validation_data = (X_test, y_test),\n",
        "              epochs = 130, batch_size= 100)"
      ],
      "metadata": {
        "colab": {
          "base_uri": "https://localhost:8080/"
        },
        "id": "XTxt8_KdpNlr",
        "outputId": "875e491a-8512-409c-d9f3-a5a98d25885b"
      },
      "execution_count": null,
      "outputs": [
        {
          "output_type": "stream",
          "name": "stdout",
          "text": [
            "Epoch 1/130\n",
            "13/13 [==============================] - 2s 41ms/step - loss: 2.2958 - accuracy: 0.1766 - val_loss: 2.2873 - val_accuracy: 0.2148\n",
            "Epoch 2/130\n",
            "13/13 [==============================] - 0s 16ms/step - loss: 2.2721 - accuracy: 0.2514 - val_loss: 2.2606 - val_accuracy: 0.1648\n",
            "Epoch 3/130\n",
            "13/13 [==============================] - 0s 19ms/step - loss: 2.2353 - accuracy: 0.2530 - val_loss: 2.2157 - val_accuracy: 0.2630\n",
            "Epoch 4/130\n",
            "13/13 [==============================] - 0s 20ms/step - loss: 2.1802 - accuracy: 0.4336 - val_loss: 2.1457 - val_accuracy: 0.4963\n",
            "Epoch 5/130\n",
            "13/13 [==============================] - 0s 16ms/step - loss: 2.0981 - accuracy: 0.4789 - val_loss: 2.0463 - val_accuracy: 0.6741\n",
            "Epoch 6/130\n",
            "13/13 [==============================] - 0s 15ms/step - loss: 1.9793 - accuracy: 0.5927 - val_loss: 1.9071 - val_accuracy: 0.7185\n",
            "Epoch 7/130\n",
            "13/13 [==============================] - 0s 14ms/step - loss: 1.8241 - accuracy: 0.6579 - val_loss: 1.7321 - val_accuracy: 0.7833\n",
            "Epoch 8/130\n",
            "13/13 [==============================] - 0s 18ms/step - loss: 1.6559 - accuracy: 0.6730 - val_loss: 1.5412 - val_accuracy: 0.7815\n",
            "Epoch 9/130\n",
            "13/13 [==============================] - 0s 21ms/step - loss: 1.4571 - accuracy: 0.7160 - val_loss: 1.3468 - val_accuracy: 0.8000\n",
            "Epoch 10/130\n",
            "13/13 [==============================] - 0s 17ms/step - loss: 1.2879 - accuracy: 0.7303 - val_loss: 1.1728 - val_accuracy: 0.8130\n",
            "Epoch 11/130\n",
            "13/13 [==============================] - 0s 24ms/step - loss: 1.1336 - accuracy: 0.7550 - val_loss: 1.0194 - val_accuracy: 0.8278\n",
            "Epoch 12/130\n",
            "13/13 [==============================] - 0s 20ms/step - loss: 1.0165 - accuracy: 0.7780 - val_loss: 0.9056 - val_accuracy: 0.8315\n",
            "Epoch 13/130\n",
            "13/13 [==============================] - 0s 16ms/step - loss: 0.8832 - accuracy: 0.7963 - val_loss: 0.8024 - val_accuracy: 0.8444\n",
            "Epoch 14/130\n",
            "13/13 [==============================] - 0s 18ms/step - loss: 0.8224 - accuracy: 0.7955 - val_loss: 0.7304 - val_accuracy: 0.8481\n",
            "Epoch 15/130\n",
            "13/13 [==============================] - 0s 19ms/step - loss: 0.7377 - accuracy: 0.8186 - val_loss: 0.6685 - val_accuracy: 0.8556\n",
            "Epoch 16/130\n",
            "13/13 [==============================] - 0s 20ms/step - loss: 0.6932 - accuracy: 0.8313 - val_loss: 0.6118 - val_accuracy: 0.8648\n",
            "Epoch 17/130\n",
            "13/13 [==============================] - 0s 22ms/step - loss: 0.6429 - accuracy: 0.8305 - val_loss: 0.5710 - val_accuracy: 0.8704\n",
            "Epoch 18/130\n",
            "13/13 [==============================] - 0s 20ms/step - loss: 0.6045 - accuracy: 0.8369 - val_loss: 0.5336 - val_accuracy: 0.8833\n",
            "Epoch 19/130\n",
            "13/13 [==============================] - 0s 21ms/step - loss: 0.5862 - accuracy: 0.8409 - val_loss: 0.5033 - val_accuracy: 0.8833\n",
            "Epoch 20/130\n",
            "13/13 [==============================] - 0s 21ms/step - loss: 0.5535 - accuracy: 0.8528 - val_loss: 0.4841 - val_accuracy: 0.8815\n",
            "Epoch 21/130\n",
            "13/13 [==============================] - 0s 22ms/step - loss: 0.5124 - accuracy: 0.8743 - val_loss: 0.4578 - val_accuracy: 0.8870\n",
            "Epoch 22/130\n",
            "13/13 [==============================] - 0s 19ms/step - loss: 0.4872 - accuracy: 0.8791 - val_loss: 0.4318 - val_accuracy: 0.8981\n",
            "Epoch 23/130\n",
            "13/13 [==============================] - 0s 21ms/step - loss: 0.4748 - accuracy: 0.8608 - val_loss: 0.4182 - val_accuracy: 0.9019\n",
            "Epoch 24/130\n",
            "13/13 [==============================] - 0s 19ms/step - loss: 0.4582 - accuracy: 0.8719 - val_loss: 0.3986 - val_accuracy: 0.8963\n",
            "Epoch 25/130\n",
            "13/13 [==============================] - 0s 15ms/step - loss: 0.4478 - accuracy: 0.8815 - val_loss: 0.3857 - val_accuracy: 0.9019\n",
            "Epoch 26/130\n",
            "13/13 [==============================] - 0s 20ms/step - loss: 0.4169 - accuracy: 0.8862 - val_loss: 0.3757 - val_accuracy: 0.9093\n",
            "Epoch 27/130\n",
            "13/13 [==============================] - 0s 16ms/step - loss: 0.4092 - accuracy: 0.8870 - val_loss: 0.3588 - val_accuracy: 0.9056\n",
            "Epoch 28/130\n",
            "13/13 [==============================] - 0s 16ms/step - loss: 0.3891 - accuracy: 0.8870 - val_loss: 0.3437 - val_accuracy: 0.9204\n",
            "Epoch 29/130\n",
            "13/13 [==============================] - 0s 19ms/step - loss: 0.3762 - accuracy: 0.8950 - val_loss: 0.3299 - val_accuracy: 0.9185\n",
            "Epoch 30/130\n",
            "13/13 [==============================] - 0s 19ms/step - loss: 0.3609 - accuracy: 0.9045 - val_loss: 0.3219 - val_accuracy: 0.9185\n",
            "Epoch 31/130\n",
            "13/13 [==============================] - 0s 23ms/step - loss: 0.3419 - accuracy: 0.8966 - val_loss: 0.3101 - val_accuracy: 0.9167\n",
            "Epoch 32/130\n",
            "13/13 [==============================] - 0s 20ms/step - loss: 0.3487 - accuracy: 0.8998 - val_loss: 0.3017 - val_accuracy: 0.9259\n",
            "Epoch 33/130\n",
            "13/13 [==============================] - 0s 19ms/step - loss: 0.3230 - accuracy: 0.9053 - val_loss: 0.2904 - val_accuracy: 0.9278\n",
            "Epoch 34/130\n",
            "13/13 [==============================] - 0s 17ms/step - loss: 0.3200 - accuracy: 0.9085 - val_loss: 0.2865 - val_accuracy: 0.9222\n",
            "Epoch 35/130\n",
            "13/13 [==============================] - 0s 22ms/step - loss: 0.3121 - accuracy: 0.9157 - val_loss: 0.2754 - val_accuracy: 0.9333\n",
            "Epoch 36/130\n",
            "13/13 [==============================] - 0s 23ms/step - loss: 0.3044 - accuracy: 0.9181 - val_loss: 0.2637 - val_accuracy: 0.9352\n",
            "Epoch 37/130\n",
            "13/13 [==============================] - 0s 16ms/step - loss: 0.3009 - accuracy: 0.9173 - val_loss: 0.2563 - val_accuracy: 0.9389\n",
            "Epoch 38/130\n",
            "13/13 [==============================] - 0s 21ms/step - loss: 0.2862 - accuracy: 0.9220 - val_loss: 0.2536 - val_accuracy: 0.9426\n",
            "Epoch 39/130\n",
            "13/13 [==============================] - 0s 26ms/step - loss: 0.2823 - accuracy: 0.9157 - val_loss: 0.2444 - val_accuracy: 0.9389\n",
            "Epoch 40/130\n",
            "13/13 [==============================] - 0s 20ms/step - loss: 0.2614 - accuracy: 0.9228 - val_loss: 0.2434 - val_accuracy: 0.9370\n",
            "Epoch 41/130\n",
            "13/13 [==============================] - 0s 19ms/step - loss: 0.2763 - accuracy: 0.9236 - val_loss: 0.2369 - val_accuracy: 0.9352\n",
            "Epoch 42/130\n",
            "13/13 [==============================] - 0s 20ms/step - loss: 0.2482 - accuracy: 0.9332 - val_loss: 0.2297 - val_accuracy: 0.9389\n",
            "Epoch 43/130\n",
            "13/13 [==============================] - 0s 16ms/step - loss: 0.2364 - accuracy: 0.9419 - val_loss: 0.2265 - val_accuracy: 0.9370\n",
            "Epoch 44/130\n",
            "13/13 [==============================] - 0s 19ms/step - loss: 0.2384 - accuracy: 0.9411 - val_loss: 0.2173 - val_accuracy: 0.9389\n",
            "Epoch 45/130\n",
            "13/13 [==============================] - 0s 21ms/step - loss: 0.2534 - accuracy: 0.9260 - val_loss: 0.2129 - val_accuracy: 0.9481\n",
            "Epoch 46/130\n",
            "13/13 [==============================] - 0s 19ms/step - loss: 0.2401 - accuracy: 0.9308 - val_loss: 0.2070 - val_accuracy: 0.9444\n",
            "Epoch 47/130\n",
            "13/13 [==============================] - 0s 22ms/step - loss: 0.2410 - accuracy: 0.9316 - val_loss: 0.2055 - val_accuracy: 0.9444\n",
            "Epoch 48/130\n",
            "13/13 [==============================] - 0s 23ms/step - loss: 0.2221 - accuracy: 0.9387 - val_loss: 0.2013 - val_accuracy: 0.9463\n",
            "Epoch 49/130\n",
            "13/13 [==============================] - 0s 19ms/step - loss: 0.2123 - accuracy: 0.9419 - val_loss: 0.2015 - val_accuracy: 0.9407\n",
            "Epoch 50/130\n",
            "13/13 [==============================] - 0s 19ms/step - loss: 0.2353 - accuracy: 0.9340 - val_loss: 0.1896 - val_accuracy: 0.9537\n",
            "Epoch 51/130\n",
            "13/13 [==============================] - 0s 17ms/step - loss: 0.2089 - accuracy: 0.9459 - val_loss: 0.1978 - val_accuracy: 0.9389\n",
            "Epoch 52/130\n",
            "13/13 [==============================] - 0s 24ms/step - loss: 0.2038 - accuracy: 0.9515 - val_loss: 0.1865 - val_accuracy: 0.9463\n",
            "Epoch 53/130\n",
            "13/13 [==============================] - 0s 20ms/step - loss: 0.1977 - accuracy: 0.9395 - val_loss: 0.1811 - val_accuracy: 0.9556\n",
            "Epoch 54/130\n",
            "13/13 [==============================] - 0s 16ms/step - loss: 0.1994 - accuracy: 0.9467 - val_loss: 0.1760 - val_accuracy: 0.9537\n",
            "Epoch 55/130\n",
            "13/13 [==============================] - 0s 17ms/step - loss: 0.1942 - accuracy: 0.9483 - val_loss: 0.1747 - val_accuracy: 0.9556\n",
            "Epoch 56/130\n",
            "13/13 [==============================] - 0s 17ms/step - loss: 0.1986 - accuracy: 0.9372 - val_loss: 0.1717 - val_accuracy: 0.9574\n",
            "Epoch 57/130\n",
            "13/13 [==============================] - 0s 20ms/step - loss: 0.1851 - accuracy: 0.9419 - val_loss: 0.1682 - val_accuracy: 0.9556\n",
            "Epoch 58/130\n",
            "13/13 [==============================] - 0s 19ms/step - loss: 0.1806 - accuracy: 0.9475 - val_loss: 0.1635 - val_accuracy: 0.9574\n",
            "Epoch 59/130\n",
            "13/13 [==============================] - 0s 15ms/step - loss: 0.1836 - accuracy: 0.9475 - val_loss: 0.1597 - val_accuracy: 0.9593\n",
            "Epoch 60/130\n",
            "13/13 [==============================] - 0s 17ms/step - loss: 0.1765 - accuracy: 0.9610 - val_loss: 0.1617 - val_accuracy: 0.9593\n",
            "Epoch 61/130\n",
            "13/13 [==============================] - 0s 26ms/step - loss: 0.1894 - accuracy: 0.9467 - val_loss: 0.1581 - val_accuracy: 0.9611\n",
            "Epoch 62/130\n",
            "13/13 [==============================] - 0s 20ms/step - loss: 0.1587 - accuracy: 0.9562 - val_loss: 0.1587 - val_accuracy: 0.9556\n",
            "Epoch 63/130\n",
            "13/13 [==============================] - 0s 22ms/step - loss: 0.1613 - accuracy: 0.9586 - val_loss: 0.1499 - val_accuracy: 0.9648\n",
            "Epoch 64/130\n",
            "13/13 [==============================] - 0s 20ms/step - loss: 0.1612 - accuracy: 0.9515 - val_loss: 0.1494 - val_accuracy: 0.9611\n",
            "Epoch 65/130\n",
            "13/13 [==============================] - 0s 22ms/step - loss: 0.1544 - accuracy: 0.9618 - val_loss: 0.1461 - val_accuracy: 0.9667\n",
            "Epoch 66/130\n",
            "13/13 [==============================] - 0s 19ms/step - loss: 0.1686 - accuracy: 0.9419 - val_loss: 0.1443 - val_accuracy: 0.9630\n",
            "Epoch 67/130\n",
            "13/13 [==============================] - 0s 18ms/step - loss: 0.1435 - accuracy: 0.9610 - val_loss: 0.1504 - val_accuracy: 0.9648\n",
            "Epoch 68/130\n",
            "13/13 [==============================] - 0s 22ms/step - loss: 0.1579 - accuracy: 0.9499 - val_loss: 0.1393 - val_accuracy: 0.9704\n",
            "Epoch 69/130\n",
            "13/13 [==============================] - 0s 16ms/step - loss: 0.1589 - accuracy: 0.9539 - val_loss: 0.1380 - val_accuracy: 0.9704\n",
            "Epoch 70/130\n",
            "13/13 [==============================] - 0s 14ms/step - loss: 0.1675 - accuracy: 0.9531 - val_loss: 0.1326 - val_accuracy: 0.9704\n",
            "Epoch 71/130\n",
            "13/13 [==============================] - 0s 15ms/step - loss: 0.1484 - accuracy: 0.9634 - val_loss: 0.1346 - val_accuracy: 0.9648\n",
            "Epoch 72/130\n",
            "13/13 [==============================] - 0s 21ms/step - loss: 0.1396 - accuracy: 0.9626 - val_loss: 0.1319 - val_accuracy: 0.9704\n",
            "Epoch 73/130\n",
            "13/13 [==============================] - 0s 16ms/step - loss: 0.1311 - accuracy: 0.9642 - val_loss: 0.1286 - val_accuracy: 0.9685\n",
            "Epoch 74/130\n",
            "13/13 [==============================] - 0s 20ms/step - loss: 0.1448 - accuracy: 0.9602 - val_loss: 0.1303 - val_accuracy: 0.9667\n",
            "Epoch 75/130\n",
            "13/13 [==============================] - 0s 21ms/step - loss: 0.1438 - accuracy: 0.9626 - val_loss: 0.1304 - val_accuracy: 0.9685\n",
            "Epoch 76/130\n",
            "13/13 [==============================] - 0s 21ms/step - loss: 0.1323 - accuracy: 0.9642 - val_loss: 0.1244 - val_accuracy: 0.9685\n",
            "Epoch 77/130\n",
            "13/13 [==============================] - 0s 19ms/step - loss: 0.1440 - accuracy: 0.9539 - val_loss: 0.1259 - val_accuracy: 0.9704\n",
            "Epoch 78/130\n",
            "13/13 [==============================] - 0s 19ms/step - loss: 0.1418 - accuracy: 0.9578 - val_loss: 0.1216 - val_accuracy: 0.9741\n",
            "Epoch 79/130\n",
            "13/13 [==============================] - 0s 15ms/step - loss: 0.1296 - accuracy: 0.9650 - val_loss: 0.1200 - val_accuracy: 0.9722\n",
            "Epoch 80/130\n",
            "13/13 [==============================] - 0s 19ms/step - loss: 0.1240 - accuracy: 0.9690 - val_loss: 0.1209 - val_accuracy: 0.9741\n",
            "Epoch 81/130\n",
            "13/13 [==============================] - 0s 18ms/step - loss: 0.1252 - accuracy: 0.9626 - val_loss: 0.1175 - val_accuracy: 0.9704\n",
            "Epoch 82/130\n",
            "13/13 [==============================] - 0s 26ms/step - loss: 0.1109 - accuracy: 0.9682 - val_loss: 0.1179 - val_accuracy: 0.9704\n",
            "Epoch 83/130\n",
            "13/13 [==============================] - 0s 11ms/step - loss: 0.1104 - accuracy: 0.9674 - val_loss: 0.1168 - val_accuracy: 0.9741\n",
            "Epoch 84/130\n",
            "13/13 [==============================] - 0s 11ms/step - loss: 0.1191 - accuracy: 0.9642 - val_loss: 0.1127 - val_accuracy: 0.9741\n",
            "Epoch 85/130\n",
            "13/13 [==============================] - 0s 11ms/step - loss: 0.1188 - accuracy: 0.9666 - val_loss: 0.1175 - val_accuracy: 0.9722\n",
            "Epoch 86/130\n",
            "13/13 [==============================] - 0s 10ms/step - loss: 0.1120 - accuracy: 0.9666 - val_loss: 0.1144 - val_accuracy: 0.9704\n",
            "Epoch 87/130\n",
            "13/13 [==============================] - 0s 10ms/step - loss: 0.1224 - accuracy: 0.9658 - val_loss: 0.1091 - val_accuracy: 0.9778\n",
            "Epoch 88/130\n",
            "13/13 [==============================] - 0s 11ms/step - loss: 0.1088 - accuracy: 0.9698 - val_loss: 0.1140 - val_accuracy: 0.9685\n",
            "Epoch 89/130\n",
            "13/13 [==============================] - 0s 10ms/step - loss: 0.1165 - accuracy: 0.9642 - val_loss: 0.1086 - val_accuracy: 0.9759\n",
            "Epoch 90/130\n",
            "13/13 [==============================] - 0s 11ms/step - loss: 0.1165 - accuracy: 0.9690 - val_loss: 0.1057 - val_accuracy: 0.9741\n",
            "Epoch 91/130\n",
            "13/13 [==============================] - 0s 10ms/step - loss: 0.1133 - accuracy: 0.9682 - val_loss: 0.1106 - val_accuracy: 0.9722\n",
            "Epoch 92/130\n",
            "13/13 [==============================] - 0s 11ms/step - loss: 0.1104 - accuracy: 0.9666 - val_loss: 0.1064 - val_accuracy: 0.9778\n",
            "Epoch 93/130\n",
            "13/13 [==============================] - 0s 11ms/step - loss: 0.1043 - accuracy: 0.9714 - val_loss: 0.1052 - val_accuracy: 0.9722\n",
            "Epoch 94/130\n",
            "13/13 [==============================] - 0s 10ms/step - loss: 0.1061 - accuracy: 0.9666 - val_loss: 0.1032 - val_accuracy: 0.9778\n",
            "Epoch 95/130\n",
            "13/13 [==============================] - 0s 11ms/step - loss: 0.1056 - accuracy: 0.9698 - val_loss: 0.1049 - val_accuracy: 0.9741\n",
            "Epoch 96/130\n",
            "13/13 [==============================] - 0s 10ms/step - loss: 0.0994 - accuracy: 0.9682 - val_loss: 0.1035 - val_accuracy: 0.9778\n",
            "Epoch 97/130\n",
            "13/13 [==============================] - 0s 11ms/step - loss: 0.0987 - accuracy: 0.9714 - val_loss: 0.1020 - val_accuracy: 0.9741\n",
            "Epoch 98/130\n",
            "13/13 [==============================] - 0s 11ms/step - loss: 0.1033 - accuracy: 0.9706 - val_loss: 0.0981 - val_accuracy: 0.9796\n",
            "Epoch 99/130\n",
            "13/13 [==============================] - 0s 13ms/step - loss: 0.0929 - accuracy: 0.9737 - val_loss: 0.0981 - val_accuracy: 0.9759\n",
            "Epoch 100/130\n",
            "13/13 [==============================] - 0s 10ms/step - loss: 0.0960 - accuracy: 0.9745 - val_loss: 0.0988 - val_accuracy: 0.9759\n",
            "Epoch 101/130\n",
            "13/13 [==============================] - 0s 11ms/step - loss: 0.0868 - accuracy: 0.9753 - val_loss: 0.0970 - val_accuracy: 0.9778\n",
            "Epoch 102/130\n",
            "13/13 [==============================] - 0s 10ms/step - loss: 0.1028 - accuracy: 0.9666 - val_loss: 0.0968 - val_accuracy: 0.9778\n",
            "Epoch 103/130\n",
            "13/13 [==============================] - 0s 10ms/step - loss: 0.0931 - accuracy: 0.9745 - val_loss: 0.0986 - val_accuracy: 0.9778\n",
            "Epoch 104/130\n",
            "13/13 [==============================] - 0s 11ms/step - loss: 0.0894 - accuracy: 0.9745 - val_loss: 0.0974 - val_accuracy: 0.9796\n",
            "Epoch 105/130\n",
            "13/13 [==============================] - 0s 11ms/step - loss: 0.0879 - accuracy: 0.9753 - val_loss: 0.0913 - val_accuracy: 0.9796\n",
            "Epoch 106/130\n",
            "13/13 [==============================] - 0s 10ms/step - loss: 0.0823 - accuracy: 0.9793 - val_loss: 0.0908 - val_accuracy: 0.9796\n",
            "Epoch 107/130\n",
            "13/13 [==============================] - 0s 11ms/step - loss: 0.0834 - accuracy: 0.9737 - val_loss: 0.0921 - val_accuracy: 0.9759\n",
            "Epoch 108/130\n",
            "13/13 [==============================] - 0s 10ms/step - loss: 0.0896 - accuracy: 0.9730 - val_loss: 0.0902 - val_accuracy: 0.9778\n",
            "Epoch 109/130\n",
            "13/13 [==============================] - 0s 11ms/step - loss: 0.0948 - accuracy: 0.9714 - val_loss: 0.0928 - val_accuracy: 0.9778\n",
            "Epoch 110/130\n",
            "13/13 [==============================] - 0s 11ms/step - loss: 0.0930 - accuracy: 0.9753 - val_loss: 0.0958 - val_accuracy: 0.9722\n",
            "Epoch 111/130\n",
            "13/13 [==============================] - 0s 10ms/step - loss: 0.0869 - accuracy: 0.9690 - val_loss: 0.0880 - val_accuracy: 0.9759\n",
            "Epoch 112/130\n",
            "13/13 [==============================] - 0s 11ms/step - loss: 0.0749 - accuracy: 0.9785 - val_loss: 0.0894 - val_accuracy: 0.9759\n",
            "Epoch 113/130\n",
            "13/13 [==============================] - 0s 10ms/step - loss: 0.0700 - accuracy: 0.9841 - val_loss: 0.0868 - val_accuracy: 0.9778\n",
            "Epoch 114/130\n",
            "13/13 [==============================] - 0s 11ms/step - loss: 0.0785 - accuracy: 0.9793 - val_loss: 0.0859 - val_accuracy: 0.9778\n",
            "Epoch 115/130\n",
            "13/13 [==============================] - 0s 11ms/step - loss: 0.0797 - accuracy: 0.9809 - val_loss: 0.0852 - val_accuracy: 0.9759\n",
            "Epoch 116/130\n",
            "13/13 [==============================] - 0s 10ms/step - loss: 0.0923 - accuracy: 0.9730 - val_loss: 0.0859 - val_accuracy: 0.9778\n",
            "Epoch 117/130\n",
            "13/13 [==============================] - 0s 10ms/step - loss: 0.0758 - accuracy: 0.9769 - val_loss: 0.0865 - val_accuracy: 0.9796\n",
            "Epoch 118/130\n",
            "13/13 [==============================] - 0s 10ms/step - loss: 0.0762 - accuracy: 0.9777 - val_loss: 0.0850 - val_accuracy: 0.9833\n",
            "Epoch 119/130\n",
            "13/13 [==============================] - 0s 10ms/step - loss: 0.0849 - accuracy: 0.9785 - val_loss: 0.0818 - val_accuracy: 0.9759\n",
            "Epoch 120/130\n",
            "13/13 [==============================] - 0s 12ms/step - loss: 0.0734 - accuracy: 0.9769 - val_loss: 0.0841 - val_accuracy: 0.9778\n",
            "Epoch 121/130\n",
            "13/13 [==============================] - 0s 11ms/step - loss: 0.0709 - accuracy: 0.9809 - val_loss: 0.0823 - val_accuracy: 0.9759\n",
            "Epoch 122/130\n",
            "13/13 [==============================] - 0s 11ms/step - loss: 0.0730 - accuracy: 0.9801 - val_loss: 0.0802 - val_accuracy: 0.9796\n",
            "Epoch 123/130\n",
            "13/13 [==============================] - 0s 11ms/step - loss: 0.0740 - accuracy: 0.9730 - val_loss: 0.0824 - val_accuracy: 0.9796\n",
            "Epoch 124/130\n",
            "13/13 [==============================] - 0s 11ms/step - loss: 0.0698 - accuracy: 0.9809 - val_loss: 0.0811 - val_accuracy: 0.9815\n",
            "Epoch 125/130\n",
            "13/13 [==============================] - 0s 11ms/step - loss: 0.0797 - accuracy: 0.9745 - val_loss: 0.0854 - val_accuracy: 0.9722\n",
            "Epoch 126/130\n",
            "13/13 [==============================] - 0s 11ms/step - loss: 0.0772 - accuracy: 0.9761 - val_loss: 0.0801 - val_accuracy: 0.9796\n",
            "Epoch 127/130\n",
            "13/13 [==============================] - 0s 11ms/step - loss: 0.0678 - accuracy: 0.9809 - val_loss: 0.0814 - val_accuracy: 0.9815\n",
            "Epoch 128/130\n",
            "13/13 [==============================] - 0s 14ms/step - loss: 0.0709 - accuracy: 0.9793 - val_loss: 0.0884 - val_accuracy: 0.9741\n",
            "Epoch 129/130\n",
            "13/13 [==============================] - 0s 10ms/step - loss: 0.0700 - accuracy: 0.9817 - val_loss: 0.0765 - val_accuracy: 0.9815\n",
            "Epoch 130/130\n",
            "13/13 [==============================] - 0s 11ms/step - loss: 0.0677 - accuracy: 0.9809 - val_loss: 0.0793 - val_accuracy: 0.9778\n"
          ]
        }
      ]
    },
    {
      "cell_type": "code",
      "source": [
        "def plot_history_loss_and_acc(history_keras_nn):\n",
        "\n",
        "    fig, axs = plt.subplots(1,2, figsize=(12,4))\n",
        "\n",
        "    axs[0].plot(history_keras_nn.history['loss'])\n",
        "    axs[0].plot(history_keras_nn.history['val_loss'])\n",
        "    axs[0].set_title('model loss')\n",
        "    axs[0].set_ylabel('loss')\n",
        "    axs[0].set_xlabel('epoch')\n",
        "    axs[0].legend(['train', 'validation'], loc='upper left')\n",
        "\n",
        "    axs[1].plot(history_keras_nn.history['accuracy'])\n",
        "    axs[1].plot(history_keras_nn.history['val_accuracy'])\n",
        "    axs[1].set_title('model accuracy')\n",
        "    axs[1].set_ylabel('accuracy')\n",
        "    axs[1].set_xlabel('epoch')\n",
        "    axs[1].legend(['train', 'validation'], loc='upper left')\n",
        "\n",
        "    plt.show()"
      ],
      "metadata": {
        "id": "oQ1OBZyK0qj_"
      },
      "execution_count": null,
      "outputs": []
    },
    {
      "cell_type": "code",
      "source": [
        "plot_history_loss_and_acc(prede_test)"
      ],
      "metadata": {
        "colab": {
          "base_uri": "https://localhost:8080/",
          "height": 299
        },
        "id": "uZwIybS70sWw",
        "outputId": "3be7e4a4-6734-4ac4-ae15-0f89439276ae"
      },
      "execution_count": null,
      "outputs": [
        {
          "output_type": "display_data",
          "data": {
            "text/plain": [
              "<Figure size 864x288 with 2 Axes>"
            ],
            "image/png": "[encoded data removed]"
          },
          "metadata": {}
        }
      ]
    },
    {
      "cell_type": "code",
      "source": [
        "from sklearn.metrics import classification_report\n",
        " \n",
        "predictions = modelo_cnn.predict(X_test, batch_size = 64)\n",
        "clas = classification_report(y_test.argmax(axis=1),\n",
        "                  predictions.argmax(axis=1),\n",
        "                  target_names=[str(x) for x in label_binarizer.classes_])\n",
        "print(clas)"
      ],
      "metadata": {
        "colab": {
          "base_uri": "https://localhost:8080/"
        },
        "id": "a055kHkytVOH",
        "outputId": "a6aed8bf-b9c2-4650-9be2-22c84c5a2b67"
      },
      "execution_count": null,
      "outputs": [
        {
          "output_type": "stream",
          "name": "stdout",
          "text": [
            "              precision    recall  f1-score   support\n",
            "\n",
            "           0       1.00      0.98      0.99        50\n",
            "           1       0.95      1.00      0.97        58\n",
            "           2       0.98      1.00      0.99        60\n",
            "           3       1.00      0.97      0.98        64\n",
            "           4       0.95      1.00      0.97        39\n",
            "           5       0.98      0.95      0.96        57\n",
            "           6       0.97      0.98      0.98        60\n",
            "           7       1.00      1.00      1.00        57\n",
            "           8       0.98      0.94      0.96        47\n",
            "           9       0.96      0.96      0.96        48\n",
            "\n",
            "    accuracy                           0.98       540\n",
            "   macro avg       0.98      0.98      0.98       540\n",
            "weighted avg       0.98      0.98      0.98       540\n",
            "\n"
          ]
        }
      ]
    }
  ]
}